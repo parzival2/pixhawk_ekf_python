{
 "cells": [
  {
   "cell_type": "markdown",
   "metadata": {},
   "source": [
    "## Equations for EKF\n",
    "These equations came from https://www.jhuapl.edu/Content/techdigest/pdf/V31-N02/31-02-Barton.pdf\n"
   ]
  },
  {
   "cell_type": "code",
   "execution_count": 1,
   "metadata": {},
   "outputs": [],
   "source": [
    "from sympy import symbols, Matrix, init_printing, pprint, zeros\n",
    "init_printing(True)"
   ]
  },
  {
   "cell_type": "markdown",
   "metadata": {},
   "source": [
    "Define symbols for the quaternion, state and the measurements.\n",
    "For this experiment we will only be using Gyroscope and Accelerometer as inputs and the state vector also contains the bias of the Gyroscope."
   ]
  },
  {
   "cell_type": "code",
   "execution_count": 2,
   "metadata": {},
   "outputs": [],
   "source": [
    "qw, qx, qy, qz = symbols('qw qx qy qz')\n",
    "gx, gy, gz = symbols('gx gy gz')\n",
    "ax, ay, az = symbols('ax ay az')\n",
    "wbx, wby, wbz = symbols('wbx wby wbz')"
   ]
  },
  {
   "cell_type": "markdown",
   "metadata": {},
   "source": [
    "Define measurement vectors now utilizing the above defined symbols.\n",
    "Note that the Measurement vectors are always matrices and thats how they are also \n",
    "represented in the code."
   ]
  },
  {
   "cell_type": "code",
   "execution_count": 3,
   "metadata": {},
   "outputs": [],
   "source": [
    "gyro = Matrix([[gx], [gy], [gz]])\n",
    "bias = Matrix([[wbx], [wby], [wbz]])"
   ]
  },
  {
   "cell_type": "code",
   "execution_count": 4,
   "metadata": {},
   "outputs": [],
   "source": [
    "accel = Matrix([[ax], [ay], [az]])"
   ]
  },
  {
   "cell_type": "markdown",
   "metadata": {},
   "source": [
    "Since our state vector is just a quaternion, the $\\dot{x}$ is just the derivative of the quaternion.\n",
    "https://fgiesen.wordpress.com/2012/08/24/quaternion-differentiation/. \n",
    "The derivative of Quaternion will be \n",
    "\n",
    "\\begin{equation*}\n",
    "q'(t) = 0.5 * q(t) * \\omega(t)\\\\\n",
    "\n",
    "q'(t) = 0.5 *\n",
    "\\begin{bmatrix}\n",
    "0 & -\\omega_x & -\\omega_y & -\\omega_z\\\\\n",
    "\\omega_x & 0  & \\omega_z  & -\\omega_y\\\\\n",
    "\\omega_y & -\\omega_z & 0 & \\omega_x \\\\\n",
    "\\omega_z & \\omega_x & -\\omega_y & 0 \\\\\n",
    "\\end{bmatrix}\n",
    "*\n",
    "\\begin{bmatrix}\n",
    "q_w\\\\\n",
    "q_x\\\\\n",
    "q_y\\\\\n",
    "q_z\n",
    "\\end{bmatrix}\n",
    "\n",
    "\\end{equation*}\n",
    "\n",
    "The above equation can be manipulated to form\n",
    "\n",
    "\\begin{equation*}\n",
    "q'(t) = 0.5 * \n",
    "\\begin{bmatrix}\n",
    "-q_x & -q_y & -q_z\\\\\n",
    "q_w & -q_z & q_y\\\\\n",
    "q_z & q_w & -q_x\\\\\n",
    "-q_y & q_x & q_w\n",
    "\\end{bmatrix}\n",
    "*\n",
    "\\begin{bmatrix}\n",
    "\\omega_x\\\\\n",
    "\\omega_y\\\\\n",
    "\\omega_z\n",
    "\\end{bmatrix}\n",
    "\n",
    "\\end{equation*}\n",
    "\n",
    "The above is a left quaternion multiplication where the right will be\n",
    "\n",
    "\\begin{equation*}\n",
    "q'(t) = 0.5 * \n",
    "\\begin{bmatrix}\n",
    "-q_x & -q_y & -q_z\\\\\n",
    "q_w & q_z & -q_y\\\\\n",
    "-q_z & q_w & q_x\\\\\n",
    "q_y & -q_x & q_w\n",
    "\\end{bmatrix}\n",
    "*\n",
    "\\begin{bmatrix}\n",
    "\\omega_x\\\\\n",
    "\\omega_y\\\\\n",
    "\\omega_z\n",
    "\\end{bmatrix}\n",
    "\n",
    "\\end{equation*}\n",
    "\n",
    "\n",
    "Define our state vector. In our case as of now, the state vector will just be a quaternion as we are only interested in the orientation of pixhawk. We will use Gyroscope measurement as input and Accelerometer as the measurement to EKF. "
   ]
  },
  {
   "cell_type": "code",
   "execution_count": 5,
   "metadata": {},
   "outputs": [],
   "source": [
    "state = Matrix([[qw], [qx], [qy], [qz], [wbx], [wby], [wbz]])"
   ]
  },
  {
   "cell_type": "code",
   "execution_count": 6,
   "metadata": {},
   "outputs": [],
   "source": [
    "omega2qdot = 0.5 * Matrix([[-qx, -qy, -qz],\n",
    "                            [qw, qz, -qy],\n",
    "                            [-qz, qw, qx],\n",
    "                            [qy, -qx, qw]])"
   ]
  },
  {
   "cell_type": "markdown",
   "metadata": {},
   "source": [
    "calculate the derivative matrix that contains the derivaties of the elements in state vector. The bias is assumed constant and its derivative will be zero."
   ]
  },
  {
   "cell_type": "code",
   "execution_count": 7,
   "metadata": {},
   "outputs": [
    {
     "name": "stdout",
     "output_type": "stream",
     "text": "⎡-0.5⋅qx⋅(gx - wbx) - 0.5⋅qy⋅(gy - wby) - 0.5⋅qz⋅(gz - wbz)⎤\n⎢                                                          ⎥\n⎢0.5⋅qw⋅(gx - wbx) - 0.5⋅qy⋅(gz - wbz) + 0.5⋅qz⋅(gy - wby) ⎥\n⎢                                                          ⎥\n⎢0.5⋅qw⋅(gy - wby) + 0.5⋅qx⋅(gz - wbz) - 0.5⋅qz⋅(gx - wbx) ⎥\n⎢                                                          ⎥\n⎢0.5⋅qw⋅(gz - wbz) - 0.5⋅qx⋅(gy - wby) + 0.5⋅qy⋅(gx - wbx) ⎥\n⎢                                                          ⎥\n⎢                            0                             ⎥\n⎢                                                          ⎥\n⎢                            0                             ⎥\n⎢                                                          ⎥\n⎣                            0                             ⎦\n"
    }
   ],
   "source": [
    "jacAngVel = omega2qdot * (gyro - bias)\n",
    "xdot = zeros(7, 1)\n",
    "xdot[0, 0] = jacAngVel[0]\n",
    "xdot[1, 0] = jacAngVel[1]\n",
    "xdot[2, 0] = jacAngVel[2]\n",
    "xdot[3, 0] = jacAngVel[3]\n",
    "pprint(xdot)"
   ]
  },
  {
   "cell_type": "markdown",
   "metadata": {},
   "source": [
    "We use the above equation to propagate the state for EKF.\n",
    "\n",
    "$\\begin{array}{l|l}\n",
    "\\text{linear Kalman filter} & \\text{EKF} \\\\\n",
    "\\hline \n",
    "& \\boxed{\\mathbf F = {\\frac{\\partial{f(\\mathbf x_t, \\mathbf u_t)}}{\\partial{\\mathbf x}}}\\biggr|_{{\\mathbf x_t},{\\mathbf u_t}}} \\\\\n",
    "\\mathbf{\\bar x} = \\mathbf{Fx} + \\mathbf{Bu} & \\boxed{\\mathbf{\\bar x} = f(\\mathbf x, \\mathbf u)}  \\\\\n",
    "\\mathbf{\\bar P} = \\mathbf{FPF}^\\mathsf{T}+\\mathbf Q  & \\mathbf{\\bar P} = \\mathbf{FPF}^\\mathsf{T}+\\mathbf Q \\\\\n",
    "\\hline\n",
    "& \\boxed{\\mathbf H = \\frac{\\partial{h(\\bar{\\mathbf x}_t)}}{\\partial{\\bar{\\mathbf x}}}\\biggr|_{\\bar{\\mathbf x}_t}} \\\\\n",
    "\\textbf{y} = \\mathbf z - \\mathbf{H \\bar{x}} & \\textbf{y} = \\mathbf z - \\boxed{h(\\bar{x})}\\\\\n",
    "\\mathbf{K} = \\mathbf{\\bar{P}H}^\\mathsf{T} (\\mathbf{H\\bar{P}H}^\\mathsf{T} + \\mathbf R)^{-1} & \\mathbf{K} = \\mathbf{\\bar{P}H}^\\mathsf{T} (\\mathbf{H\\bar{P}H}^\\mathsf{T} + \\mathbf R)^{-1} \\\\\n",
    "\\mathbf x=\\mathbf{\\bar{x}} +\\mathbf{K\\textbf{y}} & \\mathbf x=\\mathbf{\\bar{x}} +\\mathbf{K\\textbf{y}} \\\\\n",
    "\\mathbf P= (\\mathbf{I}-\\mathbf{KH})\\mathbf{\\bar{P}} & \\mathbf P= (\\mathbf{I}-\\mathbf{KH})\\mathbf{\\bar{P}}\n",
    "\\end{array}$\n",
    "\n",
    "We don't normally use $\\mathbf{Fx}$ to propagate the state for the EKF as the linearization causes inaccuracies. It is typical to compute $\\bar{\\mathbf x}$ using a suitable numerical integration technique such as Euler or Runge Kutta. Thus I wrote $\\mathbf{\\bar x} = f(\\mathbf x, \\mathbf u)$. For the same reasons we don't use $\\mathbf{H\\bar{x}}$ in the computation for the residual, opting for the more accurate $h(\\bar{\\mathbf x})$.\n",
    "\n",
    "Euler integration will have the form $\\bar{x} = \\bar{x} + \\dot{x} * \\delta{t}$"
   ]
  },
  {
   "cell_type": "code",
   "execution_count": 8,
   "metadata": {},
   "outputs": [
    {
     "name": "stdout",
     "output_type": "stream",
     "text": "⎡       0          -0.5⋅gx + 0.5⋅wbx  -0.5⋅gy + 0.5⋅wby  -0.5⋅gz + 0.5⋅wbz  0.\n⎢                                                                             \n⎢0.5⋅gx - 0.5⋅wbx          0          -0.5⋅gz + 0.5⋅wbz  0.5⋅gy - 0.5⋅wby   -0\n⎢                                                                             \n⎢0.5⋅gy - 0.5⋅wby  0.5⋅gz - 0.5⋅wbz           0          -0.5⋅gx + 0.5⋅wbx  0.\n⎢                                                                             \n⎢0.5⋅gz - 0.5⋅wbz  -0.5⋅gy + 0.5⋅wby  0.5⋅gx - 0.5⋅wbx           0          -0\n⎢                                                                             \n⎢       0                  0                  0                  0            \n⎢                                                                             \n⎢       0                  0                  0                  0            \n⎢                                                                             \n⎣       0                  0                  0                  0            \n\n5⋅qx   0.5⋅qy   0.5⋅qz ⎤\n                       ⎥\n.5⋅qw  -0.5⋅qz  0.5⋅qy ⎥\n                       ⎥\n5⋅qz   -0.5⋅qw  -0.5⋅qx⎥\n                       ⎥\n.5⋅qy  0.5⋅qx   -0.5⋅qw⎥\n                       ⎥\n 0        0        0   ⎥\n                       ⎥\n 0        0        0   ⎥\n                       ⎥\n 0        0        0   ⎦\n"
    }
   ],
   "source": [
    "f_t = xdot.jacobian(state)\n",
    "pprint(f_t)"
   ]
  },
  {
   "cell_type": "markdown",
   "metadata": {},
   "source": [
    "The above found transition matrix is a linearized continuous model but for EKF we need to \n",
    "discretize it. \n",
    "There are several methods available to discretize the continuous matrix. We will be apporaching \n",
    "one or two method and find out which one is easy to implement in C++.\n",
    "\n",
    "The first of those method is Van-Loan method.\n",
    "\n",
    "1. Van-Loan method for discretization\n",
    "\n",
    "2. Series definition of a matrix exponential\n",
    "    http://web.mit.edu/18.06/www/Spring17/Matrix-Exponentials.pdf"
   ]
  },
  {
   "cell_type": "markdown",
   "metadata": {},
   "source": [
    "### Measurement model\n",
    "The accelerometer measures the specific force $f_{b}$ at each time instance t and the accelerometer measurements are assumed to be corrupted by bias $b_{t}$ and noise $e_{t}.\n",
    " \n",
    "$$\n",
    "y_{a} = f_{b} + b_{t} + e_{t}\n",
    "$$\n",
    "\n",
    "The accelerometer noise is typically gaussian and hence for a properly calibrated sensor the noise covaraince matrix can be diagonal.\n",
    "\n",
    "$$\n",
    "a_{b} = i_{R_{n}} * g_{n} + i_{R_{n}} * \\omega * V\n",
    "$$\n",
    "\n",
    "here \n",
    "\n",
    "$a_{b}$ is the acceleration experieced by the accelerometer in IMU coordinate frame.\n",
    "\n",
    "$i_{R_{n}}$ is the rotation matrix that converts the values expressed in navigation coordinate frame to IMU frame.\n",
    "\n",
    "$V$ is the velocity.\n",
    "\n",
    "$\\omega$ is the angular velocity expressed in navigation frame."
   ]
  },
  {
   "cell_type": "code",
   "execution_count": 9,
   "metadata": {},
   "outputs": [],
   "source": [
    "# The rotation matrix that converts the measurements expressed in navigation coordinate frame to IMU frame.\n",
    "C_ned2b  = Matrix([[1-2*(qy**2+qz**2),   2*(qx*qy+qz*qw),    2*(qx*qz-qy*qw)],\n",
    "                     [2*(qx*qy-qz*qw),   1-2*(qx**2+qz**2),    2*(qy*qz+qx*qw)], \n",
    "                     [2*(qx*qz+qy*qw),   2*(qy*qz-qx*qw),    1-2*(qx**2+qy**2)]])"
   ]
  },
  {
   "cell_type": "markdown",
   "metadata": {},
   "source": [
    "Gravity is going to be 9.8m/sec2. Since we are not measureming velocity we ignore it for now."
   ]
  },
  {
   "cell_type": "code",
   "execution_count": 10,
   "metadata": {},
   "outputs": [],
   "source": [
    "gmps = symbols('g')\n",
    "accel = Matrix([[0.0], [0.0], [gmps]])\n",
    "zhat = C_ned2b * accel"
   ]
  },
  {
   "cell_type": "code",
   "execution_count": 11,
   "metadata": {},
   "outputs": [
    {
     "name": "stdout",
     "output_type": "stream",
     "text": "Matrix([[-2*g*qy, 2*g*qz, -2*g*qw, 2*g*qx, 0, 0, 0], [2*g*qx, 2*g*qw, 2*g*qz, 2*g*qy, 0, 0, 0], [0, -4*g*qx, -4*g*qy, 0, 0, 0, 0]])\n⎡-2⋅g⋅qy  2⋅g⋅qz   -2⋅g⋅qw  2⋅g⋅qx  0  0  0⎤\n⎢                                          ⎥\n⎢2⋅g⋅qx   2⋅g⋅qw   2⋅g⋅qz   2⋅g⋅qy  0  0  0⎥\n⎢                                          ⎥\n⎣   0     -4⋅g⋅qx  -4⋅g⋅qy    0     0  0  0⎦\n"
    }
   ],
   "source": [
    "H = zhat.jacobian(state)\n",
    "print(H)\n",
    "pprint(H)"
   ]
  },
  {
   "cell_type": "code",
   "execution_count": null,
   "metadata": {},
   "outputs": [],
   "source": []
  }
 ],
 "metadata": {
  "kernelspec": {
   "name": "python38264bit18d492c0bc6f4b5289fabd70830b0620",
   "display_name": "Python 3.8.2 64-bit"
  }
 },
 "nbformat": 4,
 "nbformat_minor": 2
}